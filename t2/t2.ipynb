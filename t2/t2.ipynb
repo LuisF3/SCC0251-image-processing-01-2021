{
 "cells": [
  {
   "cell_type": "markdown",
   "id": "d2ef7005",
   "metadata": {},
   "source": [
    "# Trabalho 02 : realce e superresolução - 01/2021"
   ]
  },
  {
   "cell_type": "markdown",
   "id": "28e35ac8",
   "metadata": {},
   "source": [
    "**Nome:** Luís Felipe Ribeiro Chaves\n",
    "\n",
    "**NUSP:** 10801221\n",
    "\n",
    "BCC/018"
   ]
  },
  {
   "cell_type": "markdown",
   "id": "18313d6a",
   "metadata": {},
   "source": [
    "Imports necessários no programa"
   ]
  },
  {
   "cell_type": "code",
   "execution_count": 2,
   "id": "0c78287a",
   "metadata": {},
   "outputs": [],
   "source": [
    "import numpy as np\n",
    "import imageio\n",
    "\n",
    "from matplotlib import pyplot as plt"
   ]
  },
  {
   "cell_type": "markdown",
   "id": "cad333f5",
   "metadata": {},
   "source": [
    "Leitura de parâmetros"
   ]
  },
  {
   "cell_type": "code",
   "execution_count": null,
   "id": "69d24093",
   "metadata": {},
   "outputs": [],
   "source": [
    "bn = input()\n",
    "hg = input()\n",
    "fn = int(input())\n",
    "gm = float(input())"
   ]
  },
  {
   "cell_type": "code",
   "execution_count": 3,
   "id": "b240d816",
   "metadata": {},
   "outputs": [],
   "source": [
    "bn = 'ImagensParaTestes/02_low'\n",
    "hg = 'ImagensParaTestes/02_high.png'\n",
    "fn = 2\n",
    "gm = 1.0"
   ]
  },
  {
   "cell_type": "markdown",
   "id": "956f24e4",
   "metadata": {},
   "source": [
    "Leitura das imagens"
   ]
  },
  {
   "cell_type": "code",
   "execution_count": 4,
   "id": "0e9a6b69",
   "metadata": {},
   "outputs": [],
   "source": [
    "imgs = (\n",
    "    imageio.imread(bn + '0.png'),\n",
    "    imageio.imread(bn + '1.png'),\n",
    "    imageio.imread(bn + '2.png'),\n",
    "    imageio.imread(bn + '3.png')\n",
    ")\n",
    "ref_img_high = imageio.imread(hg)"
   ]
  },
  {
   "cell_type": "markdown",
   "id": "c9789991",
   "metadata": {},
   "source": [
    "## Realce de imagem"
   ]
  },
  {
   "cell_type": "code",
   "execution_count": 6,
   "id": "729a8999",
   "metadata": {},
   "outputs": [],
   "source": [
    "def cumulative_hist(A, intensity_level):\n",
    "    base = range(intensity_level)\n",
    "    values = np.zeros(intensity_level)\n",
    "    \n",
    "    values[0] = np.sum(A == 0)\n",
    "    for i in range(1, intensity_level):\n",
    "        values[i] = values[i - 1] + np.sum(A == i)\n",
    "        \n",
    "    return (base, values)\n",
    "\n",
    "def apply_hist_enhancement(img, hist):\n",
    "    applied = ((len(hist[0]) - 1) / (img.shape[0] * img.shape[1])) * hist[1][img]\n",
    "    mini = applied.min()\n",
    "    maxi = applied.max()\n",
    "    diff = maxi - mini\n",
    "    return (applied - mini) * (img.shape[0] - 1) / diff\n",
    "\n",
    "if fn == 0:\n",
    "    imgs_enhc = imgs\n",
    "elif fn == 1:\n",
    "    ind_hists = (\n",
    "        cumulative_hist(imgs[0], 256),\n",
    "        cumulative_hist(imgs[1], 256),\n",
    "        cumulative_hist(imgs[2], 256),\n",
    "        cumulative_hist(imgs[3], 256)\n",
    "    )\n",
    "    imgs_enhc = (\n",
    "        apply_hist_enhancement(imgs[0], ind_hists[0]),\n",
    "        apply_hist_enhancement(imgs[1], ind_hists[1]),\n",
    "        apply_hist_enhancement(imgs[2], ind_hists[2]),\n",
    "        apply_hist_enhancement(imgs[3], ind_hists[3])\n",
    "    )\n",
    "elif fn == 2:\n",
    "    img_concat = np.concatenate(imgs)\n",
    "    conj_hists = cumulative_hist(img_concat, 256)\n",
    "    \n",
    "    imgs_enhc = (\n",
    "        apply_hist_enhancement(imgs[0], conj_hists),\n",
    "        apply_hist_enhancement(imgs[1], conj_hists),\n",
    "        apply_hist_enhancement(imgs[2], conj_hists),\n",
    "        apply_hist_enhancement(imgs[3], conj_hists)\n",
    "    )\n",
    "elif fn == 3:\n",
    "    imgs_enhc = (\n",
    "        255.0 * (imgs[0]/255.0) ** (1.0 / gm),\n",
    "        255.0 * (imgs[1]/255.0) ** (1.0 / gm),\n",
    "        255.0 * (imgs[2]/255.0) ** (1.0 / gm),\n",
    "        255.0 * (imgs[3]/255.0) ** (1.0 / gm)\n",
    "    )\n"
   ]
  },
  {
   "cell_type": "markdown",
   "id": "6979ec39",
   "metadata": {},
   "source": [
    "## Superresolução"
   ]
  },
  {
   "cell_type": "code",
   "execution_count": 9,
   "id": "0c5c937a",
   "metadata": {},
   "outputs": [],
   "source": [
    "sx, sy = imgs[0].shape\n",
    "img_high = np.zeros((sx * 2, sy * 2))\n",
    "for x in np.arange(sx):\n",
    "    for y in np.arange(sy):\n",
    "        bx, by = (x * 2, y * 2)\n",
    "        img_high[bx    , by    ] = imgs_enhc[0][x, y]\n",
    "        img_high[bx    , by + 1] = imgs_enhc[1][x, y]\n",
    "        img_high[bx + 1, by    ] = imgs_enhc[2][x, y]\n",
    "        img_high[bx + 1, by + 1] = imgs_enhc[3][x, y]"
   ]
  },
  {
   "cell_type": "markdown",
   "id": "e447743c",
   "metadata": {},
   "source": [
    "## Cálculo do erro"
   ]
  },
  {
   "cell_type": "code",
   "execution_count": 10,
   "id": "261368cd",
   "metadata": {},
   "outputs": [
    {
     "name": "stdout",
     "output_type": "stream",
     "text": [
      "9.2854\n"
     ]
    }
   ],
   "source": [
    "n = img_high.shape[0]\n",
    "rmse = 0\n",
    "\n",
    "for i in range(n):\n",
    "    for j in range(n):\n",
    "        rmse += (img_high[i, j] - ref_img_high[i, j]) ** 2\n",
    "        \n",
    "rmse = np.sqrt(rmse/ (n ** 2))\n",
    "\n",
    "print(\"%.4f\" % rmse)"
   ]
  }
 ],
 "metadata": {
  "kernelspec": {
   "display_name": "Python 3",
   "language": "python",
   "name": "python3"
  },
  "language_info": {
   "codemirror_mode": {
    "name": "ipython",
    "version": 3
   },
   "file_extension": ".py",
   "mimetype": "text/x-python",
   "name": "python",
   "nbconvert_exporter": "python",
   "pygments_lexer": "ipython3",
   "version": "3.8.5"
  }
 },
 "nbformat": 4,
 "nbformat_minor": 5
}
